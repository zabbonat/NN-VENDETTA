{
  "nbformat": 4,
  "nbformat_minor": 0,
  "metadata": {
    "colab": {
      "name": "LAB 2 NN",
      "provenance": [],
      "collapsed_sections": [],
      "include_colab_link": true
    },
    "kernelspec": {
      "name": "python3",
      "display_name": "Python 3"
    }
  },
  "cells": [
    {
      "cell_type": "markdown",
      "metadata": {
        "id": "view-in-github",
        "colab_type": "text"
      },
      "source": [
        "<a href=\"https://colab.research.google.com/github/zabbonat/NN-VENDETTA/blob/master/LAB_2_NN.ipynb\" target=\"_parent\"><img src=\"https://colab.research.google.com/assets/colab-badge.svg\" alt=\"Open In Colab\"/></a>"
      ]
    },
    {
      "cell_type": "code",
      "metadata": {
        "id": "7Hx3ZVIXv5G7",
        "colab_type": "code",
        "colab": {}
      },
      "source": [
        "pip install tensorflow==2.0.0\n"
      ],
      "execution_count": 0,
      "outputs": []
    },
    {
      "cell_type": "code",
      "metadata": {
        "id": "k4Ms7ub6wKjC",
        "colab_type": "code",
        "colab": {}
      },
      "source": [
        "import tensorflow as tf"
      ],
      "execution_count": 0,
      "outputs": []
    },
    {
      "cell_type": "code",
      "metadata": {
        "id": "_DBorIFXwTHa",
        "colab_type": "code",
        "colab": {}
      },
      "source": [
        "%matplotlib inline"
      ],
      "execution_count": 0,
      "outputs": []
    },
    {
      "cell_type": "code",
      "metadata": {
        "id": "o5bAmlCZwTQ9",
        "colab_type": "code",
        "colab": {}
      },
      "source": [
        "from sklearn import datasets, preprocessing, model_selection \n",
        "#preprocesing tostandardize the data "
      ],
      "execution_count": 0,
      "outputs": []
    },
    {
      "cell_type": "code",
      "metadata": {
        "id": "XzQUV31VwTfN",
        "colab_type": "code",
        "colab": {}
      },
      "source": [
        "boston = datasets.load_boston()"
      ],
      "execution_count": 0,
      "outputs": []
    },
    {
      "cell_type": "code",
      "metadata": {
        "id": "vnGAX4FzwTlz",
        "colab_type": "code",
        "outputId": "168084cb-358e-4b21-d6e3-95a6eaf95396",
        "colab": {
          "base_uri": "https://localhost:8080/",
          "height": 35
        }
      },
      "source": [
        "boston.keys()"
      ],
      "execution_count": 7,
      "outputs": [
        {
          "output_type": "execute_result",
          "data": {
            "text/plain": [
              "dict_keys(['data', 'target', 'feature_names', 'DESCR', 'filename'])"
            ]
          },
          "metadata": {
            "tags": []
          },
          "execution_count": 7
        }
      ]
    },
    {
      "cell_type": "code",
      "metadata": {
        "id": "AUJaa77Nxgs_",
        "colab_type": "code",
        "colab": {}
      },
      "source": [
        "X=boston['data']\n",
        "y=boston['target']"
      ],
      "execution_count": 0,
      "outputs": []
    },
    {
      "cell_type": "code",
      "metadata": {
        "id": "_MpbZW40xgz7",
        "colab_type": "code",
        "outputId": "f6a7f119-f476-442f-8eec-9254375b06c0",
        "colab": {
          "base_uri": "https://localhost:8080/",
          "height": 35
        }
      },
      "source": [
        "X.shape\n",
        "#13 feature"
      ],
      "execution_count": 9,
      "outputs": [
        {
          "output_type": "execute_result",
          "data": {
            "text/plain": [
              "(506, 13)"
            ]
          },
          "metadata": {
            "tags": []
          },
          "execution_count": 9
        }
      ]
    },
    {
      "cell_type": "code",
      "metadata": {
        "id": "dQBCfxn_xg2s",
        "colab_type": "code",
        "outputId": "6fe071ce-2a59-4ced-f7db-6887ad49bdcb",
        "colab": {
          "base_uri": "https://localhost:8080/",
          "height": 35
        }
      },
      "source": [
        "y.shape #check everytime and reshape with a single dimension at the end so \n",
        "#instead have (506,) you will have (506,1)\n",
        "y=y.reshape(-1,1)\n",
        "y.shape"
      ],
      "execution_count": 11,
      "outputs": [
        {
          "output_type": "execute_result",
          "data": {
            "text/plain": [
              "(506, 1)"
            ]
          },
          "metadata": {
            "tags": []
          },
          "execution_count": 11
        }
      ]
    },
    {
      "cell_type": "code",
      "metadata": {
        "id": "Djrs007txg5H",
        "colab_type": "code",
        "outputId": "1c29410d-bf12-4047-9a48-942122783c51",
        "colab": {
          "base_uri": "https://localhost:8080/",
          "height": 199
        }
      },
      "source": [
        "\n",
        "y[0:10] #vector of taget price"
      ],
      "execution_count": 12,
      "outputs": [
        {
          "output_type": "execute_result",
          "data": {
            "text/plain": [
              "array([[24. ],\n",
              "       [21.6],\n",
              "       [34.7],\n",
              "       [33.4],\n",
              "       [36.2],\n",
              "       [28.7],\n",
              "       [22.9],\n",
              "       [27.1],\n",
              "       [16.5],\n",
              "       [18.9]])"
            ]
          },
          "metadata": {
            "tags": []
          },
          "execution_count": 12
        }
      ]
    },
    {
      "cell_type": "code",
      "metadata": {
        "id": "ypzag6Xwxg7p",
        "colab_type": "code",
        "colab": {}
      },
      "source": [
        "#check the value of data, check if are normalize because in the opposite case \n",
        "#happen that you got problem\n",
        "#normalize data before started \n",
        "\n",
        "X=preprocessing.scale(X)\n",
        "y=preprocessing.scale(y)"
      ],
      "execution_count": 0,
      "outputs": []
    },
    {
      "cell_type": "code",
      "metadata": {
        "id": "d_Sxo2NIxg9-",
        "colab_type": "code",
        "colab": {}
      },
      "source": [
        "Xtrain, Xtest, ytrain, ytest= \\\n",
        "               model_selection.train_test_split(X,y) #make a train and test \n",
        "                                                     #dataset"
      ],
      "execution_count": 0,
      "outputs": []
    },
    {
      "cell_type": "code",
      "metadata": {
        "id": "aD6L5ynvxhAY",
        "colab_type": "code",
        "colab": {}
      },
      "source": [
        "#normalize data, reshape, make train/test, now let's go to model ->\n",
        "#f(x)=w^t*x+b\n"
      ],
      "execution_count": 0,
      "outputs": []
    },
    {
      "cell_type": "code",
      "metadata": {
        "id": "dNhGugCFxhCt",
        "colab_type": "code",
        "colab": {}
      },
      "source": [
        "def model_init(n_features):\n",
        "  w=tf.Variable(tf.random.normal(shape=(n_features,1), stddev=0.01, dtype=tf.float64),) \n",
        "      #function that gives you random element from a \\\n",
        "                               #normal distribution\n",
        "  b = tf.Variable(0.0, dtype=tf.float64)\n",
        "  return w,b"
      ],
      "execution_count": 0,
      "outputs": []
    },
    {
      "cell_type": "code",
      "metadata": {
        "id": "pthFEIevLTPq",
        "colab_type": "code",
        "colab": {}
      },
      "source": [
        "w,b = model_init(13)"
      ],
      "execution_count": 0,
      "outputs": []
    },
    {
      "cell_type": "code",
      "metadata": {
        "id": "rqyoi38yxtUa",
        "colab_type": "code",
        "colab": {}
      },
      "source": [
        "def linear_model(x):\n",
        "    return tf.matmul(x,w)+ b  \n",
        "  #matrix multiplication and remember isn't commutative \n",
        "    #{13 for x}\n",
        "    "
      ],
      "execution_count": 0,
      "outputs": []
    },
    {
      "cell_type": "code",
      "metadata": {
        "id": "VlZX-21_3YR5",
        "colab_type": "code",
        "outputId": "eefa8faa-0904-41c6-dc97-6923f561cb09",
        "colab": {
          "base_uri": "https://localhost:8080/",
          "height": 90
        }
      },
      "source": [
        "linear_model(Xtrain[0:3])\n"
      ],
      "execution_count": 18,
      "outputs": [
        {
          "output_type": "execute_result",
          "data": {
            "text/plain": [
              "<tf.Tensor: id=24, shape=(3, 1), dtype=float64, numpy=\n",
              "array([[-0.0674857 ],\n",
              "       [-0.02687442],\n",
              "       [ 0.10485644]])>"
            ]
          },
          "metadata": {
            "tags": []
          },
          "execution_count": 18
        }
      ]
    },
    {
      "cell_type": "code",
      "metadata": {
        "id": "aHLVUbyB3YZ_",
        "colab_type": "code",
        "colab": {}
      },
      "source": [
        "def squared_loss(ytrue, ypredicted):\n",
        "  return  tf.reduce_mean((ytrue - ypredicted)**2.0)\n",
        "#funzione di perdita quadratica\n",
        "#Computes the mean of elements across dimensions of a tensor.\n",
        "#(deprecated arguments)   "
      ],
      "execution_count": 0,
      "outputs": []
    },
    {
      "cell_type": "code",
      "metadata": {
        "id": "AKmSzcbd3YdI",
        "colab_type": "code",
        "outputId": "89f7de3a-cecd-4539-cd84-e4b9e353aea9",
        "colab": {
          "base_uri": "https://localhost:8080/",
          "height": 35
        }
      },
      "source": [
        "squared_loss(ytrain, linear_model(Xtrain))"
      ],
      "execution_count": 20,
      "outputs": [
        {
          "output_type": "execute_result",
          "data": {
            "text/plain": [
              "<tf.Tensor: id=35, shape=(), dtype=float64, numpy=0.9538115476613016>"
            ]
          },
          "metadata": {
            "tags": []
          },
          "execution_count": 20
        }
      ]
    },
    {
      "cell_type": "code",
      "metadata": {
        "id": "4Nqopg8g3Yf4",
        "colab_type": "code",
        "colab": {}
      },
      "source": [
        "for i in range(1000): #do gradient automatically \n",
        "    \n",
        "    with tf.GradientTape() as tape:\n",
        "      ypredicted = linear_model(Xtrain)\n",
        "      l = squared_loss(ytrain, ypredicted)\n",
        "      \n",
        "      \n",
        "    g= tape.gradient(l, [w,b]) #gradient respect to w and gradient respect to b\n",
        "                               #b scalar, w multidimensional\n",
        "    w.assign_sub(0.01 * g[0]) #0.01 learning rate, esegue l'update \n",
        "    #sottraendo quello \n",
        "    b.assign_sub(0.01 * g[1])"
      ],
      "execution_count": 0,
      "outputs": []
    },
    {
      "cell_type": "code",
      "metadata": {
        "id": "XTTR8flX-PHR",
        "colab_type": "code",
        "outputId": "fafdd2cc-10f4-4f0d-9ee6-ad4a7a4b61d6",
        "colab": {
          "base_uri": "https://localhost:8080/",
          "height": 271
        }
      },
      "source": [
        "w # the most important feature is the last one "
      ],
      "execution_count": 22,
      "outputs": [
        {
          "output_type": "execute_result",
          "data": {
            "text/plain": [
              "<tf.Variable 'Variable:0' shape=(13, 1) dtype=float64, numpy=\n",
              "array([[-0.1072871 ],\n",
              "       [ 0.15569079],\n",
              "       [-0.00809647],\n",
              "       [ 0.09719081],\n",
              "       [-0.24498065],\n",
              "       [ 0.27659725],\n",
              "       [ 0.02923109],\n",
              "       [-0.36876444],\n",
              "       [ 0.22222818],\n",
              "       [-0.14374609],\n",
              "       [-0.21659449],\n",
              "       [ 0.06126357],\n",
              "       [-0.41920959]])>"
            ]
          },
          "metadata": {
            "tags": []
          },
          "execution_count": 22
        }
      ]
    },
    {
      "cell_type": "code",
      "metadata": {
        "id": "IU-BELMB-PPO",
        "colab_type": "code",
        "outputId": "99c62e94-ff08-43bf-ad98-9bc55d6a859f",
        "colab": {
          "base_uri": "https://localhost:8080/",
          "height": 35
        }
      },
      "source": [
        "squared_loss(ytrain, linear_model(Xtrain)) "
      ],
      "execution_count": 23,
      "outputs": [
        {
          "output_type": "execute_result",
          "data": {
            "text/plain": [
              "<tf.Tensor: id=36048, shape=(), dtype=float64, numpy=0.2329239941759633>"
            ]
          },
          "metadata": {
            "tags": []
          },
          "execution_count": 23
        }
      ]
    },
    {
      "cell_type": "code",
      "metadata": {
        "id": "WRRTSP2c-PUj",
        "colab_type": "code",
        "colab": {}
      },
      "source": [
        "XX = tf.matmul(X.transpose(), X)"
      ],
      "execution_count": 0,
      "outputs": []
    },
    {
      "cell_type": "code",
      "metadata": {
        "id": "lkPqNbUz-0X5",
        "colab_type": "code",
        "colab": {}
      },
      "source": [
        "Xy= tf.matmul(X.transpose(),y)"
      ],
      "execution_count": 0,
      "outputs": []
    },
    {
      "cell_type": "code",
      "metadata": {
        "id": "Tz7Snh9O-0as",
        "colab_type": "code",
        "colab": {
          "base_uri": "https://localhost:8080/",
          "height": 271
        },
        "outputId": "ccf1fc74-a6ac-4ae4-dc11-e6158761348d"
      },
      "source": [
        "tf.matmul(tf.linalg.inv(XX), Xy)"
      ],
      "execution_count": 26,
      "outputs": [
        {
          "output_type": "execute_result",
          "data": {
            "text/plain": [
              "<tf.Tensor: id=36056, shape=(13, 1), dtype=float64, numpy=\n",
              "array([[-0.10101708],\n",
              "       [ 0.1177152 ],\n",
              "       [ 0.0153352 ],\n",
              "       [ 0.07419883],\n",
              "       [-0.22384803],\n",
              "       [ 0.29105647],\n",
              "       [ 0.00211864],\n",
              "       [-0.33783635],\n",
              "       [ 0.28974905],\n",
              "       [-0.22603168],\n",
              "       [-0.22427123],\n",
              "       [ 0.09243223],\n",
              "       [-0.40744693]])>"
            ]
          },
          "metadata": {
            "tags": []
          },
          "execution_count": 26
        }
      ]
    },
    {
      "cell_type": "code",
      "metadata": {
        "id": "3CdcXfw0-0dL",
        "colab_type": "code",
        "colab": {}
      },
      "source": [
        "import matplotlib.pyplot as plt"
      ],
      "execution_count": 0,
      "outputs": []
    },
    {
      "cell_type": "markdown",
      "metadata": {
        "id": "FBPZFqZbJlvB",
        "colab_type": "text"
      },
      "source": [
        "DATA SET CANCER "
      ]
    },
    {
      "cell_type": "code",
      "metadata": {
        "id": "x9snU7i8-0f-",
        "colab_type": "code",
        "colab": {}
      },
      "source": [
        "breastcancer = datasets.load_breast_cancer()"
      ],
      "execution_count": 0,
      "outputs": []
    },
    {
      "cell_type": "code",
      "metadata": {
        "id": "kIO46lBy-0iH",
        "colab_type": "code",
        "colab": {}
      },
      "source": [
        "X=breastcancer['data']\n",
        "y=breastcancer['target']\n"
      ],
      "execution_count": 0,
      "outputs": []
    },
    {
      "cell_type": "code",
      "metadata": {
        "id": "FC_Ry0do-0lV",
        "colab_type": "code",
        "colab": {}
      },
      "source": [
        "X = preprocessing.scale(X)"
      ],
      "execution_count": 0,
      "outputs": []
    },
    {
      "cell_type": "code",
      "metadata": {
        "id": "ADC5nvVvJgG6",
        "colab_type": "code",
        "colab": {
          "base_uri": "https://localhost:8080/",
          "height": 35
        },
        "outputId": "82982fbd-4887-4b90-8fe9-803c0cd9339b"
      },
      "source": [
        "X.shape"
      ],
      "execution_count": 31,
      "outputs": [
        {
          "output_type": "execute_result",
          "data": {
            "text/plain": [
              "(569, 30)"
            ]
          },
          "metadata": {
            "tags": []
          },
          "execution_count": 31
        }
      ]
    },
    {
      "cell_type": "code",
      "metadata": {
        "id": "S8q1toXBJgNg",
        "colab_type": "code",
        "colab": {
          "base_uri": "https://localhost:8080/",
          "height": 72
        },
        "outputId": "c7e1fbaf-3657-493a-f1ca-c4c7ec81b5d7"
      },
      "source": [
        "y[0:50]"
      ],
      "execution_count": 32,
      "outputs": [
        {
          "output_type": "execute_result",
          "data": {
            "text/plain": [
              "array([0, 0, 0, 0, 0, 0, 0, 0, 0, 0, 0, 0, 0, 0, 0, 0, 0, 0, 0, 1, 1, 1,\n",
              "       0, 0, 0, 0, 0, 0, 0, 0, 0, 0, 0, 0, 0, 0, 0, 1, 0, 0, 0, 0, 0, 0,\n",
              "       0, 0, 1, 0, 1, 1])"
            ]
          },
          "metadata": {
            "tags": []
          },
          "execution_count": 32
        }
      ]
    },
    {
      "cell_type": "code",
      "metadata": {
        "id": "mZ2yS4OuJgRT",
        "colab_type": "code",
        "colab": {
          "base_uri": "https://localhost:8080/",
          "height": 35
        },
        "outputId": "43007475-a1e6-44de-8aa7-adb006514ea7"
      },
      "source": [
        "y.dtype #problem with tenserflow because it wants  in 32 not 64 "
      ],
      "execution_count": 33,
      "outputs": [
        {
          "output_type": "execute_result",
          "data": {
            "text/plain": [
              "dtype('int64')"
            ]
          },
          "metadata": {
            "tags": []
          },
          "execution_count": 33
        }
      ]
    },
    {
      "cell_type": "code",
      "metadata": {
        "id": "5hbML9vDKDek",
        "colab_type": "code",
        "colab": {}
      },
      "source": [
        "import numpy as np"
      ],
      "execution_count": 0,
      "outputs": []
    },
    {
      "cell_type": "code",
      "metadata": {
        "id": "bGbpi4-kJgUb",
        "colab_type": "code",
        "colab": {}
      },
      "source": [
        "import numpy as np\n",
        "y=y.reshape(-1,1).astype(np.int32)"
      ],
      "execution_count": 0,
      "outputs": []
    },
    {
      "cell_type": "code",
      "metadata": {
        "id": "wsrQD35FJgW1",
        "colab_type": "code",
        "colab": {}
      },
      "source": [
        "Xtrain, Xtest, ytrain, ytest= \\\n",
        "        model_selection.train_test_split(X,y, stratify = y)"
      ],
      "execution_count": 0,
      "outputs": []
    },
    {
      "cell_type": "code",
      "metadata": {
        "id": "-wDZ0dwQJgY9",
        "colab_type": "code",
        "colab": {}
      },
      "source": [
        "w, b = model_init(X.shape[1])"
      ],
      "execution_count": 0,
      "outputs": []
    },
    {
      "cell_type": "code",
      "metadata": {
        "id": "d4Pnd7LJK7ki",
        "colab_type": "code",
        "colab": {}
      },
      "source": [
        "logreg_model = lambda x : tf.sigmoid(linear_model(x))"
      ],
      "execution_count": 0,
      "outputs": []
    },
    {
      "cell_type": "code",
      "metadata": {
        "id": "kbyBf7-DK7qM",
        "colab_type": "code",
        "colab": {}
      },
      "source": [
        "from tensorflow.keras import losses, optimizers, metrics "
      ],
      "execution_count": 0,
      "outputs": []
    },
    {
      "cell_type": "code",
      "metadata": {
        "id": "QbLttRbFK7nf",
        "colab_type": "code",
        "colab": {}
      },
      "source": [
        "loss = losses.BinaryCrossentropy()"
      ],
      "execution_count": 0,
      "outputs": []
    },
    {
      "cell_type": "code",
      "metadata": {
        "id": "OU-UzgEeK7tU",
        "colab_type": "code",
        "colab": {}
      },
      "source": [
        "opt = optimizers.RMSprop(learning_rate=0.01)\n",
        "#opt = optimizers.SGD(learning_rate= 0.01)"
      ],
      "execution_count": 0,
      "outputs": []
    },
    {
      "cell_type": "code",
      "metadata": {
        "id": "QRlsM3YQK7wi",
        "colab_type": "code",
        "colab": {}
      },
      "source": [
        "acc= metrics.BinaryAccuracy()"
      ],
      "execution_count": 0,
      "outputs": []
    },
    {
      "cell_type": "code",
      "metadata": {
        "id": "nPNcYvvIK7zx",
        "colab_type": "code",
        "colab": {}
      },
      "source": [
        "ypredicted = logreg_model(Xtrain)"
      ],
      "execution_count": 0,
      "outputs": []
    },
    {
      "cell_type": "code",
      "metadata": {
        "id": "ZTGQ1G3vK72v",
        "colab_type": "code",
        "colab": {
          "base_uri": "https://localhost:8080/",
          "height": 217
        },
        "outputId": "99b7018b-0349-4c40-acb8-b33d7ab43625"
      },
      "source": [
        "ypredicted[0:10]"
      ],
      "execution_count": 52,
      "outputs": [
        {
          "output_type": "execute_result",
          "data": {
            "text/plain": [
              "<tf.Tensor: id=36122, shape=(10, 1), dtype=float64, numpy=\n",
              "array([[0.50664986],\n",
              "       [0.50840947],\n",
              "       [0.48640959],\n",
              "       [0.50094992],\n",
              "       [0.52215285],\n",
              "       [0.5038604 ],\n",
              "       [0.50009726],\n",
              "       [0.5090573 ],\n",
              "       [0.509695  ],\n",
              "       [0.51619189]])>"
            ]
          },
          "metadata": {
            "tags": []
          },
          "execution_count": 52
        }
      ]
    },
    {
      "cell_type": "code",
      "metadata": {
        "id": "MVxKL8JpK75K",
        "colab_type": "code",
        "colab": {
          "base_uri": "https://localhost:8080/",
          "height": 35
        },
        "outputId": "9afea06d-2158-4216-aadf-d08231ee533a"
      },
      "source": [
        "acc= metrics.BinaryAccuracy()\n",
        "acc.update_state(ytrain, ypredicted)\n",
        "acc.result()"
      ],
      "execution_count": 56,
      "outputs": [
        {
          "output_type": "execute_result",
          "data": {
            "text/plain": [
              "<tf.Tensor: id=36186, shape=(), dtype=float32, numpy=0.84741783>"
            ]
          },
          "metadata": {
            "tags": []
          },
          "execution_count": 56
        }
      ]
    },
    {
      "cell_type": "code",
      "metadata": {
        "id": "YwgB4aMnK770",
        "colab_type": "code",
        "colab": {}
      },
      "source": [
        "all_accuracies=[]\n",
        "\n",
        "for i in range(1000): #do gradient automatically \n",
        "    \n",
        "    with tf.GradientTape() as tape:\n",
        "      ypredicted = logreg_model(Xtrain)\n",
        "      l = loss(ytrain, ypredicted)\n",
        "      \n",
        "      \n",
        "    g= tape.gradient(l, [w,b]) #gradient respect to w and gradient respect to b\n",
        "                               #b scalar, w multidimensional\n",
        "    opt.apply_gradients([(g[0],w),(g[1],b)])\n",
        "    \n",
        "    acc= metrics.BinaryAccuracy()\n",
        "    acc.update_state(ytrain, ypredicted)\n",
        "    all_accuracies.append(acc.result())"
      ],
      "execution_count": 0,
      "outputs": []
    },
    {
      "cell_type": "code",
      "metadata": {
        "id": "sMcCKK69K7-Q",
        "colab_type": "code",
        "colab": {
          "base_uri": "https://localhost:8080/",
          "height": 287
        },
        "outputId": "412a60b6-db1c-4314-cbcc-028602e105dc"
      },
      "source": [
        "import matplotlib.pyplot as plt\n",
        "plt.plot(all_accuracies)"
      ],
      "execution_count": 66,
      "outputs": [
        {
          "output_type": "execute_result",
          "data": {
            "text/plain": [
              "[<matplotlib.lines.Line2D at 0x7fb940cd62b0>]"
            ]
          },
          "metadata": {
            "tags": []
          },
          "execution_count": 66
        },
        {
          "output_type": "display_data",
          "data": {
            "image/png": "[encoded data removed]",
            "text/plain": [
              "<Figure size 432x288 with 1 Axes>"
            ]
          },
          "metadata": {
            "tags": []
          }
        }
      ]
    },
    {
      "cell_type": "code",
      "metadata": {
        "id": "udlZuis2K8Ax",
        "colab_type": "code",
        "colab": {}
      },
      "source": [
        ""
      ],
      "execution_count": 0,
      "outputs": []
    },
    {
      "cell_type": "code",
      "metadata": {
        "id": "otgzWPYyJgaw",
        "colab_type": "code",
        "colab": {}
      },
      "source": [
        ""
      ],
      "execution_count": 0,
      "outputs": []
    }
  ]
}